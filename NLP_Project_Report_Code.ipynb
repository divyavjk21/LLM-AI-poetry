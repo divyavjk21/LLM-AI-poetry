{
 "cells": [
  {
   "cell_type": "code",
   "execution_count": 3,
   "id": "90a9f93c-1cee-482d-a7e0-c7c8aa748758",
   "metadata": {},
   "outputs": [
    {
     "name": "stdout",
     "output_type": "stream",
     "text": [
      "Index(['Unnamed: 0', 's', 'gid'], dtype='object')\n"
     ]
    }
   ],
   "source": [
    "import pandas as pd\n",
    "\n",
    "# Load the dataset\n",
    "df = pd.read_csv(\"Gutenberg-Poetry.csv\")\n",
    "\n",
    "# Display column names\n",
    "print(df.columns)\n"
   ]
  },
  {
   "cell_type": "code",
   "execution_count": 7,
   "id": "c335baea-aaa2-4c83-ac0a-bb18e06d6051",
   "metadata": {},
   "outputs": [
    {
     "name": "stdout",
     "output_type": "stream",
     "text": [
      "   Unnamed: 0                                               poem  gid\n",
      "0           0  The Song of Hiawatha is based on the legends a...   19\n",
      "1           1  many North American Indian tribes, but especia...   19\n",
      "2           2  Ojibway Indians of northern Michigan, Wisconsi...   19\n",
      "3           3  They were collected by Henry Rowe Schoolcraft,...   19\n",
      "4           4  Schoolcraft married Jane, O-bah-bahm-wawa-ge-z...   19\n"
     ]
    }
   ],
   "source": [
    "df.rename(columns={'s': 'poem'}, inplace=True)\n",
    "\n",
    "# Verify the column name change\n",
    "print(df.head())\n"
   ]
  },
  {
   "cell_type": "code",
   "execution_count": 9,
   "id": "0eb2cd1e-4932-41c7-aceb-e0a4e21b43e6",
   "metadata": {},
   "outputs": [
    {
     "name": "stdout",
     "output_type": "stream",
     "text": [
      "Dataset size after removing null values: (3085117, 3)\n"
     ]
    }
   ],
   "source": [
    "df = df.dropna(subset=['poem'])\n",
    "\n",
    "# Check the dataset size\n",
    "print(f\"Dataset size after removing null values: {df.shape}\")\n"
   ]
  },
  {
   "cell_type": "code",
   "execution_count": 11,
   "id": "e0dcf146-1392-4834-83ae-9a7391a9841b",
   "metadata": {},
   "outputs": [],
   "source": [
    "df.to_csv(\"cleaned_poetry_dataset.csv\", index=False)\n"
   ]
  },
  {
   "cell_type": "code",
   "execution_count": 13,
   "id": "e35d26cc-4c2c-4f26-ad7b-6cb43f8ba446",
   "metadata": {},
   "outputs": [
    {
     "name": "stdout",
     "output_type": "stream",
     "text": [
      "{'love': 'Write a free verse poem about deep and unconditional love.', 'sadness': 'Generate a poem that captures the emotions of loss and grief.', 'anger': 'Compose a poem expressing frustration and rage.', 'joy': 'Write a haiku that conveys happiness and contentment.'}\n"
     ]
    }
   ],
   "source": [
    "prompts = {\n",
    "    \"love\": \"Write a free verse poem about deep and unconditional love.\",\n",
    "    \"sadness\": \"Generate a poem that captures the emotions of loss and grief.\",\n",
    "    \"anger\": \"Compose a poem expressing frustration and rage.\",\n",
    "    \"joy\": \"Write a haiku that conveys happiness and contentment.\"\n",
    "}\n",
    "\n",
    "# Print sample prompts\n",
    "print(prompts)\n"
   ]
  },
  {
   "cell_type": "code",
   "execution_count": 15,
   "id": "c9bd781a-8391-4b1e-bb0e-23a1d0523011",
   "metadata": {},
   "outputs": [
    {
     "name": "stdout",
     "output_type": "stream",
     "text": [
      "Requirement already satisfied: openai in /opt/anaconda3/lib/python3.12/site-packages (0.28.0)\n",
      "Requirement already satisfied: requests>=2.20 in /opt/anaconda3/lib/python3.12/site-packages (from openai) (2.32.2)\n",
      "Requirement already satisfied: tqdm in /opt/anaconda3/lib/python3.12/site-packages (from openai) (4.66.4)\n",
      "Requirement already satisfied: aiohttp in /opt/anaconda3/lib/python3.12/site-packages (from openai) (3.9.5)\n",
      "Requirement already satisfied: charset-normalizer<4,>=2 in /opt/anaconda3/lib/python3.12/site-packages (from requests>=2.20->openai) (2.0.4)\n",
      "Requirement already satisfied: idna<4,>=2.5 in /opt/anaconda3/lib/python3.12/site-packages (from requests>=2.20->openai) (3.7)\n",
      "Requirement already satisfied: urllib3<3,>=1.21.1 in /opt/anaconda3/lib/python3.12/site-packages (from requests>=2.20->openai) (2.2.2)\n",
      "Requirement already satisfied: certifi>=2017.4.17 in /opt/anaconda3/lib/python3.12/site-packages (from requests>=2.20->openai) (2024.7.4)\n",
      "Requirement already satisfied: aiosignal>=1.1.2 in /opt/anaconda3/lib/python3.12/site-packages (from aiohttp->openai) (1.2.0)\n",
      "Requirement already satisfied: attrs>=17.3.0 in /opt/anaconda3/lib/python3.12/site-packages (from aiohttp->openai) (23.1.0)\n",
      "Requirement already satisfied: frozenlist>=1.1.1 in /opt/anaconda3/lib/python3.12/site-packages (from aiohttp->openai) (1.4.0)\n",
      "Requirement already satisfied: multidict<7.0,>=4.5 in /opt/anaconda3/lib/python3.12/site-packages (from aiohttp->openai) (6.0.4)\n",
      "Requirement already satisfied: yarl<2.0,>=1.0 in /opt/anaconda3/lib/python3.12/site-packages (from aiohttp->openai) (1.9.3)\n"
     ]
    }
   ],
   "source": [
    "\n",
    "!pip install openai\n"
   ]
  },
  {
   "cell_type": "code",
   "execution_count": 17,
   "id": "f62a3452-73e1-4e44-8682-9ba15ef75938",
   "metadata": {},
   "outputs": [
    {
     "name": "stdout",
     "output_type": "stream",
     "text": [
      "OpenAI package installed successfully!\n"
     ]
    }
   ],
   "source": [
    "import openai\n",
    "print(\"OpenAI package installed successfully!\")\n"
   ]
  },
  {
   "cell_type": "code",
   "execution_count": 19,
   "id": "cb90c108-fb9c-40af-b0da-93b9942fb8e6",
   "metadata": {},
   "outputs": [
    {
     "name": "stdout",
     "output_type": "stream",
     "text": [
      "Hello! I'm just a program, so I don't have feelings, but I'm here and ready to help you. How can I assist you today?\n"
     ]
    }
   ],
   "source": [
    "import openai\n",
    "\n",
    "openai.api_key = \"your_open_ai_key\"\n",
    "\n",
    "response = openai.ChatCompletion.create(\n",
    "    model=\"gpt-4o\",\n",
    "    messages=[{\"role\": \"user\", \"content\": \"Hello, how are you?\"}]\n",
    ")\n",
    "\n",
    "print(response[\"choices\"][0][\"message\"][\"content\"])\n"
   ]
  },
  {
   "cell_type": "code",
   "execution_count": 21,
   "id": "5e799ddb-f4f1-45f6-a32e-0c288a65aea3",
   "metadata": {},
   "outputs": [
    {
     "name": "stdout",
     "output_type": "stream",
     "text": [
      "In the towering strength of whispered secrets, defying the winds of time,\n",
      "There, if one listens keenly, there throbs an unparalleled melody;\n",
      "A passion-stream, aflame with the vibrant hues of Intimacy Unseen,\n",
      "In its silken tendrils, resounding and relentless, you hear the heartbeat of love.\n",
      "\n",
      "Like dawn-kissed dew on roses, resplendent in the glow of a new day,\n",
      "It blankets existence, as ancient as stardust, as fresh as the universe’s first sigh,\n",
      "An echo of lives intertwined in the genesis of perpetual turnings,\n",
      "It is love, profound, unconditional, tracing an eternal path across the cosmos.\n",
      "\n",
      "There, beneath the hallowed canopy of celestial symmetries,\n",
      "In the intangible space betwixt two whispered promises,\n",
      "Love throbs, radiant, ablaze with whispered secrets, caged in pearls of wisdom.\n",
      "A work of art, sculpted by the Master of galaxies, the Potter of souls.\n",
      "\n",
      "An unending sonnet, etched in the parchment of human hearts,\n",
      "Balancing the elemental cocktail of laughter and tears,\n",
      "Forged with conflict, smoothed by sweet concession,\n",
      "Throwing out tendrils of survival, of resilience, of gentle compromise.\n",
      "\n",
      "And in the fiery crucible of this sacred love, an iterative dance,\n",
      "There is born the sublime alloy of Self and Other,\n",
      "Wherein Being recognizes itself mirrored in the Other’s eyes,\n",
      "Reflecting the truth – Love knows no boundary, it simply Is – raw, real, and rare.\n",
      "\n",
      "This love, tectonic shift of hearts, a language beyond tongues,\n",
      "Unleashes meaning in the silent spaces, a balm over deepest caverns of despair,\n",
      "Fathomless as ocean trenches, as perennial as life’s first seed,\n",
      "Fetches destruction and birth in its tempestuous surge, an alchemy of souls.\n",
      "\n",
      "Choreographed through ages, etched into memories, woven into dreams,\n",
      "Is such love, capable of silencing the ravenous tongues of space-time,\n",
      "Expanding, exponential, pulsing with the rhythm of existence,\n",
      "An abiding melody, lullaby to the stars, hymn to the universe.\n",
      "\n",
      "A love unswerving and undiminished, painted upon the canvas of Eternity,\n",
      "In the wisdom of whispers, in the architecture of heartbeats, in the tapestry of tremors,\n",
      "Would that all souls knew such rarefied devotion, such distilled passion,\n",
      "Such love, wild, unwieldy, pulsing, thrumming, humming—free.\n"
     ]
    }
   ],
   "source": [
    "def generate_poem(prompt):\n",
    "    response = openai.ChatCompletion.create(\n",
    "        model=\"gpt-4\",\n",
    "        messages=[{\"role\": \"user\", \"content\": prompt}]\n",
    "    )\n",
    "    return response['choices'][0]['message']['content']\n",
    "\n",
    "# Example prompt\n",
    "prompt = \"Write a free verse poem about deep and unconditional love.\"\n",
    "generated_poem = generate_poem(prompt)\n",
    "print(generated_poem)\n"
   ]
  },
  {
   "cell_type": "code",
   "execution_count": 23,
   "id": "7f571767-0d6f-402b-9486-99e58ac28677",
   "metadata": {},
   "outputs": [
    {
     "name": "stdout",
     "output_type": "stream",
     "text": [
      "Available columns in dataset: Index(['Unnamed: 0', 'poem', 'gid'], dtype='object')\n"
     ]
    },
    {
     "name": "stderr",
     "output_type": "stream",
     "text": [
      "All PyTorch model weights were used when initializing TFGPT2LMHeadModel.\n",
      "\n",
      "All the weights of TFGPT2LMHeadModel were initialized from the PyTorch model.\n",
      "If your task is similar to the task the model of the checkpoint was trained on, you can already use TFGPT2LMHeadModel for predictions without further training.\n",
      "WARNING:absl:At this time, the v2.11+ optimizer `tf.keras.optimizers.Adam` runs slowly on M1/M2 Macs, please use the legacy TF-Keras optimizer instead, located at `tf.keras.optimizers.legacy.Adam`.\n"
     ]
    },
    {
     "name": "stdout",
     "output_type": "stream",
     "text": [
      "TensorFlow GPT-2 model loaded successfully!\n",
      "Epoch 1/3\n",
      "772/772 [==============================] - 356s 453ms/step - loss: 0.1245\n",
      "Epoch 2/3\n",
      "772/772 [==============================] - 346s 449ms/step - loss: 0.0214\n",
      "Epoch 3/3\n",
      "772/772 [==============================] - 349s 452ms/step - loss: 0.0042\n"
     ]
    },
    {
     "data": {
      "text/plain": [
       "('./fine_tuned_gpt2/tokenizer_config.json',\n",
       " './fine_tuned_gpt2/special_tokens_map.json',\n",
       " './fine_tuned_gpt2/vocab.json',\n",
       " './fine_tuned_gpt2/merges.txt',\n",
       " './fine_tuned_gpt2/added_tokens.json')"
      ]
     },
     "execution_count": 23,
     "metadata": {},
     "output_type": "execute_result"
    }
   ],
   "source": [
    "import tensorflow as tf\n",
    "from transformers import TFGPT2LMHeadModel, GPT2Tokenizer\n",
    "import pandas as pd  \n",
    "\n",
    "# Load dataset\n",
    "dataset_path = \"cleaned_poetry_dataset.csv\"  \n",
    "df = pd.read_csv(dataset_path)\n",
    "\n",
    "# Print column names to verify\n",
    "print(\"Available columns in dataset:\", df.columns)\n",
    "\n",
    "#  Use correct text column\n",
    "text_column = \"poem\"\n",
    "\n",
    "# Reduce dataset to 1% for faster training\n",
    "df = df.sample(frac=0.001, random_state=42)  \n",
    "\n",
    "# Load GPT-2 model and tokenizer\n",
    "model_name = \"gpt2\"\n",
    "tokenizer = GPT2Tokenizer.from_pretrained(model_name)\n",
    "model = TFGPT2LMHeadModel.from_pretrained(model_name)\n",
    "\n",
    "print(\"TensorFlow GPT-2 model loaded successfully!\")\n",
    "\n",
    "#  Tokenize dataset using correct column\n",
    "df['tokenized_poems'] = df[text_column].apply(lambda x: tokenizer.encode(str(x), truncation=True, max_length=512))\n",
    "\n",
    "# Convert dataset to TensorFlow format\n",
    "input_ids = tf.ragged.constant(df['tokenized_poems'].tolist()).to_tensor()\n",
    "train_dataset = tf.data.Dataset.from_tensor_slices(({\"input_ids\": input_ids}, input_ids)) \\\n",
    "    .shuffle(len(df)).batch(4).prefetch(tf.data.AUTOTUNE)\n",
    "\n",
    "#  Explicitly define optimizer before compiling\n",
    "optimizer = tf.keras.optimizers.Adam(learning_rate=5e-5)  \n",
    "\n",
    "# Compile & Train Model\n",
    "model.compile(optimizer=optimizer, \n",
    "              loss=tf.keras.losses.SparseCategoricalCrossentropy(from_logits=True))\n",
    "model.fit(train_dataset, epochs=3)\n",
    "\n",
    "# Save Model & Tokenizer\n",
    "model.save_pretrained(\"./fine_tuned_gpt2\")\n",
    "tokenizer.save_pretrained(\"./fine_tuned_gpt2\")\n"
   ]
  },
  {
   "cell_type": "code",
   "execution_count": 25,
   "id": "9becf344-2960-4f65-b7cc-f7161993c7a4",
   "metadata": {},
   "outputs": [
    {
     "name": "stdout",
     "output_type": "stream",
     "text": [
      "Dataset Loaded Successfully!\n",
      "First 5 rows:\n",
      "   Unnamed: 0                                               poem  gid\n",
      "0           0  The Song of Hiawatha is based on the legends a...   19\n",
      "1           1  many North American Indian tribes, but especia...   19\n",
      "2           2  Ojibway Indians of northern Michigan, Wisconsi...   19\n",
      "3           3  They were collected by Henry Rowe Schoolcraft,...   19\n",
      "4           4  Schoolcraft married Jane, O-bah-bahm-wawa-ge-z...   19\n",
      "Checking for missing values:\n",
      "Unnamed: 0    0\n",
      "poem          0\n",
      "gid           0\n",
      "dtype: int64\n"
     ]
    }
   ],
   "source": [
    "import pandas as pd\n",
    "\n",
    "dataset_path = \"cleaned_poetry_dataset.csv\"\n",
    "df = pd.read_csv(dataset_path)\n",
    "\n",
    "print(\"Dataset Loaded Successfully!\")\n",
    "print(\"First 5 rows:\")\n",
    "print(df.head())\n",
    "\n",
    "print(\"Checking for missing values:\")\n",
    "print(df.isnull().sum())\n"
   ]
  },
  {
   "cell_type": "code",
   "execution_count": 27,
   "id": "e4cc54c7-c0aa-4ec7-a86d-94fd2d521b29",
   "metadata": {},
   "outputs": [
    {
     "name": "stdout",
     "output_type": "stream",
     "text": [
      "Generated Poem:\n",
      " Nature is the most significant benefactor, an unmatched artist who sculpts free-flowing rivers, lush green forests and majestic mountains. The beauty of nature is beyond comparison, a diverse and splendid kaleidoscope of awe-inspiring vistas that leave human hearts entranced and souls mesmerized.\n",
      "\n",
      "The enchanting palette of blues, pinks, and purples painting the twilight sky, or the golden hues of the rising sun piercing through fragments of morning mist, are manifestations of the very essence of natural beauty. The melodious songs of birds at the break of dawn, the harmonious symphony of crickets at twilight and the mesmerizing whisper of leaves rustling in the evening breeze, all perfectly embody the entrancing magic of our earthly paradise.\n",
      "\n",
      "The resplendency of nature is indeed, a feast for the naked eye. The sight of towering snow-capped mountains against a clear blue sky, the undulating lush green meadows kissed by dew, or the formidable roar of a cascading waterfall are breathtaking panoramic marvels that epitomize the grandeur of nature.\n",
      "\n",
      "Furthermore, nature is an endless gallery of magnificent artwork. The unique designs of intricate snowflakes, the spectacular display of colors darting across the sky in the form of a rainbow, or the stunning pattern of petals in a blooming flower, are all divine masterpieces posed by the very hands of nature herself.\n",
      "\n",
      "The sublime beauty of nature serves to remind us of the simplicity and tranquility encompassed within its domain. The tranquility of a silent, calm lake reflecting a clear sky, the simplicity of a delicate flower blooming in a remote field, or the purity of a cascading stream coursing through a dense forest, all invoke feelings of peace and serenity.\n",
      "\n",
      "The beauty of nature is not confined simply to the sights, however. The fragrance of blooming flowers, the earthy scent following a bout of rainfall, the sweet aroma of ripe fruits – each impacts our senses, and contributes to the countless reasons why we cherish the natural world.\n",
      "\n",
      "Finally, the beauty of nature is cyclical, capturing the essence of life itself through the change of seasons. The rebirth in the spring, the bounty of the summer, the transition of the fall and the quiescence of the winter all reflect the cycles of life and death.\n",
      "\n",
      "In conclusion, the beauty of nature is diverse, captivating and ever-present. Its wonderful sights, sounds, and scents provide a powerful antidote to the artificiality of modern life, serving as a constant reminder of the preciousness and wonder that surrounds us. Whether enjoyed in quiet solitude or shared in the company of others, the beauty of nature serves to bring us closer to our roots, fostering a deeper appreciation for the world we inhabit.\n",
      "\n",
      "Sentiment Scores: {'neg': 0.012, 'neu': 0.757, 'pos': 0.231, 'compound': 0.9988}\n"
     ]
    }
   ],
   "source": [
    "from vaderSentiment.vaderSentiment import SentimentIntensityAnalyzer\n",
    "#import text2emotion as te\n",
    "# Define a prompt for poem generation\n",
    "prompt = \"Nature and its beauty\"  # You can change this to any topic\n",
    "\n",
    "# Generate the poem using the prompt\n",
    "generated_poem = generate_poem(prompt)  # Pass the prompt argument\n",
    "\n",
    "# Analyze sentiment and emotion\n",
    "poem_sentiment = analyzer.polarity_scores(generated_poem)  \n",
    "#emotion_scores = te.get_emotion(generated_poem)\n",
    "\n",
    "print(\"Generated Poem:\\n\", generated_poem)\n",
    "print(\"\\nSentiment Scores:\", poem_sentiment)\n",
    "#print(\"Emotion Scores:\", emotion_scores)\n",
    "\n",
    "\n"
   ]
  },
  {
   "cell_type": "code",
   "execution_count": 29,
   "id": "c92bcfbe-db37-4a4b-bd4e-21448bcaa0d4",
   "metadata": {},
   "outputs": [
    {
     "name": "stdout",
     "output_type": "stream",
     "text": [
      "Total rows before sampling: 3085117\n",
      "   Unnamed: 0                                               poem  gid\n",
      "0           0  The Song of Hiawatha is based on the legends a...   19\n",
      "1           1  many North American Indian tribes, but especia...   19\n",
      "2           2  Ojibway Indians of northern Michigan, Wisconsi...   19\n",
      "3           3  They were collected by Henry Rowe Schoolcraft,...   19\n",
      "4           4  Schoolcraft married Jane, O-bah-bahm-wawa-ge-z...   19\n",
      "Total rows after sampling: 5\n"
     ]
    }
   ],
   "source": [
    "import pandas as pd\n",
    "\n",
    "# Load dataset\n",
    "dataset_path = \"cleaned_poetry_dataset.csv\"  \n",
    "df = pd.read_csv(dataset_path)\n",
    "\n",
    "# ✅ Debugging: Print dataset info\n",
    "print(\"Total rows before sampling:\", len(df))\n",
    "print(df.head())\n",
    "\n",
    "# ✅ If dataset is empty, raise an error\n",
    "if df.empty:\n",
    "    raise ValueError(\"Dataset is empty! Check if the file exists and is correctly formatted.\")\n",
    "\n",
    "# ✅ Ensure we sample enough data (at least 5 rows)\n",
    "df = df.sample(n=min(len(df), 5), random_state=42).reset_index(drop=True)\n",
    "\n",
    "# ✅ Double-check after sampling\n",
    "print(\"Total rows after sampling:\", len(df))\n",
    "if df.empty:\n",
    "    raise ValueError(\"Error: The dataset is still empty after sampling! Increase sample size or check CSV file.\")\n"
   ]
  },
  {
   "cell_type": "code",
   "execution_count": 37,
   "id": "0c90dd4a-f166-405b-be21-9afbdf3bbf7a",
   "metadata": {},
   "outputs": [
    {
     "name": "stdout",
     "output_type": "stream",
     "text": [
      "Collecting textblob\n",
      "  Downloading textblob-0.19.0-py3-none-any.whl.metadata (4.4 kB)\n",
      "Collecting rouge-score\n",
      "  Downloading rouge_score-0.1.2.tar.gz (17 kB)\n",
      "  Preparing metadata (setup.py) ... \u001b[?25ldone\n",
      "\u001b[?25hCollecting nltk==3.8\n",
      "  Downloading nltk-3.8-py3-none-any.whl.metadata (2.8 kB)\n",
      "Requirement already satisfied: sacrebleu in /opt/anaconda3/lib/python3.12/site-packages (2.5.1)\n",
      "Requirement already satisfied: click in /opt/anaconda3/lib/python3.12/site-packages (from nltk==3.8) (8.1.7)\n",
      "Requirement already satisfied: joblib in /opt/anaconda3/lib/python3.12/site-packages (from nltk==3.8) (1.4.2)\n",
      "Requirement already satisfied: regex>=2021.8.3 in /opt/anaconda3/lib/python3.12/site-packages (from nltk==3.8) (2023.10.3)\n",
      "Requirement already satisfied: tqdm in /opt/anaconda3/lib/python3.12/site-packages (from nltk==3.8) (4.66.4)\n",
      "INFO: pip is looking at multiple versions of textblob to determine which version is compatible with other requirements. This could take a while.\n",
      "Collecting textblob\n",
      "  Downloading textblob-0.18.0.post0-py3-none-any.whl.metadata (4.5 kB)\n",
      "Requirement already satisfied: absl-py in /opt/anaconda3/lib/python3.12/site-packages (from rouge-score) (2.1.0)\n",
      "Requirement already satisfied: numpy in /opt/anaconda3/lib/python3.12/site-packages (from rouge-score) (1.26.4)\n",
      "Requirement already satisfied: six>=1.14.0 in /opt/anaconda3/lib/python3.12/site-packages (from rouge-score) (1.16.0)\n",
      "Requirement already satisfied: portalocker in /opt/anaconda3/lib/python3.12/site-packages (from sacrebleu) (3.1.1)\n",
      "Requirement already satisfied: tabulate>=0.8.9 in /opt/anaconda3/lib/python3.12/site-packages (from sacrebleu) (0.9.0)\n",
      "Requirement already satisfied: colorama in /opt/anaconda3/lib/python3.12/site-packages (from sacrebleu) (0.4.6)\n",
      "Requirement already satisfied: lxml in /opt/anaconda3/lib/python3.12/site-packages (from sacrebleu) (5.2.1)\n",
      "Downloading nltk-3.8-py3-none-any.whl (1.5 MB)\n",
      "\u001b[2K   \u001b[90m━━━━━━━━━━━━━━━━━━━━━━━━━━━━━━━━━━━━━━━━\u001b[0m \u001b[32m1.5/1.5 MB\u001b[0m \u001b[31m11.9 MB/s\u001b[0m eta \u001b[36m0:00:00\u001b[0ma \u001b[36m0:00:01\u001b[0m\n",
      "\u001b[?25hDownloading textblob-0.18.0.post0-py3-none-any.whl (626 kB)\n",
      "\u001b[2K   \u001b[90m━━━━━━━━━━━━━━━━━━━━━━━━━━━━━━━━━━━━━━━━\u001b[0m \u001b[32m626.3/626.3 kB\u001b[0m \u001b[31m80.6 MB/s\u001b[0m eta \u001b[36m0:00:00\u001b[0m\n",
      "\u001b[?25hBuilding wheels for collected packages: rouge-score\n",
      "  Building wheel for rouge-score (setup.py) ... \u001b[?25ldone\n",
      "\u001b[?25h  Created wheel for rouge-score: filename=rouge_score-0.1.2-py3-none-any.whl size=24934 sha256=e905455896f11f74f2c2fe951783194f672c1a5ecef332cbed9937a7939c7613\n",
      "  Stored in directory: /Users/divyak/Library/Caches/pip/wheels/85/9d/af/01feefbe7d55ef5468796f0c68225b6788e85d9d0a281e7a70\n",
      "Successfully built rouge-score\n",
      "Installing collected packages: nltk, textblob, rouge-score\n",
      "  Attempting uninstall: nltk\n",
      "    Found existing installation: nltk 3.8.1\n",
      "    Uninstalling nltk-3.8.1:\n",
      "      Successfully uninstalled nltk-3.8.1\n",
      "Successfully installed nltk-3.8 rouge-score-0.1.2 textblob-0.18.0.post0\n",
      "[nltk_data] Downloading package brown to /Users/divyak/nltk_data...\n",
      "[nltk_data]   Unzipping corpora/brown.zip.\n",
      "[nltk_data] Downloading package punkt to /Users/divyak/nltk_data...\n",
      "[nltk_data]   Package punkt is already up-to-date!\n",
      "[nltk_data] Downloading package wordnet to /Users/divyak/nltk_data...\n",
      "[nltk_data]   Package wordnet is already up-to-date!\n",
      "[nltk_data] Downloading package averaged_perceptron_tagger to\n",
      "[nltk_data]     /Users/divyak/nltk_data...\n",
      "[nltk_data]   Unzipping taggers/averaged_perceptron_tagger.zip.\n",
      "[nltk_data] Downloading package conll2000 to\n",
      "[nltk_data]     /Users/divyak/nltk_data...\n",
      "[nltk_data]   Unzipping corpora/conll2000.zip.\n",
      "[nltk_data] Downloading package movie_reviews to\n",
      "[nltk_data]     /Users/divyak/nltk_data...\n",
      "[nltk_data]   Unzipping corpora/movie_reviews.zip.\n",
      "Finished.\n"
     ]
    }
   ],
   "source": [
    "!pip install textblob rouge-score nltk==3.8 sacrebleu\n",
    "!python -m textblob.download_corpora\n"
   ]
  },
  {
   "cell_type": "code",
   "execution_count": 39,
   "id": "862e5330-97cc-4bea-a670-c49787bd90b4",
   "metadata": {},
   "outputs": [
    {
     "name": "stdout",
     "output_type": "stream",
     "text": [
      "Target Emotion: joy\n",
      "Predicted Sentiment: neutral\n",
      "Match: False\n"
     ]
    }
   ],
   "source": [
    "\n",
    "from textblob import TextBlob\n",
    "\n",
    "def get_sentiment_label(text):\n",
    "    polarity = TextBlob(text).sentiment.polarity\n",
    "    if polarity > 0.2:\n",
    "        return \"joy\"\n",
    "    elif polarity < -0.2:\n",
    "        return \"sadness\"\n",
    "    else:\n",
    "        return \"neutral\"\n",
    "\n",
    "# Example: Evaluate alignment for one generated poem\n",
    "generated_poem = \"Your sample generated poem here\"\n",
    "target_emotion = \"joy\"\n",
    "\n",
    "predicted_emotion = get_sentiment_label(generated_poem)\n",
    "print(f\"Target Emotion: {target_emotion}\")\n",
    "print(f\"Predicted Sentiment: {predicted_emotion}\")\n",
    "print(\"Match:\", predicted_emotion == target_emotion)\n"
   ]
  },
  {
   "cell_type": "code",
   "execution_count": 45,
   "id": "b5d6535e-1d43-44a4-a163-6ae8cc765dd7",
   "metadata": {},
   "outputs": [
    {
     "name": "stdout",
     "output_type": "stream",
     "text": [
      "ROUGE Scores:\n",
      "rouge1: Precision=0.1818, Recall=0.1818, F1=0.1818\n",
      "rouge2: Precision=0.0000, Recall=0.0000, F1=0.0000\n",
      "rougeL: Precision=0.1818, Recall=0.1818, F1=0.1818\n",
      "Distinct-1: 0.9167\n",
      "Distinct-2: 1.0000\n"
     ]
    },
    {
     "name": "stderr",
     "output_type": "stream",
     "text": [
      "[nltk_data] Downloading package punkt to /Users/divyak/nltk_data...\n",
      "[nltk_data]   Package punkt is already up-to-date!\n"
     ]
    }
   ],
   "source": [
    "\n",
    "from collections import Counter\n",
    "from nltk.translate.bleu_score import sentence_bleu, SmoothingFunction\n",
    "from rouge_score import rouge_scorer\n",
    "import nltk\n",
    "nltk.download('punkt')\n",
    "\n",
    "# Sample generated and reference poems\n",
    "generated_poem = \"The golden rays caress the sky, joy dances in morning light\"\n",
    "reference_poem = \"Joy blooms in dawn's tender glow, sunlight whispers soft hellos\"\n",
    "\n",
    "# Tokenization\n",
    "gen_tokens = nltk.word_tokenize(generated_poem.lower())\n",
    "ref_tokens = nltk.word_tokenize(reference_poem.lower())\n",
    "\n",
    "# ROUGE scoring\n",
    "scorer = rouge_scorer.RougeScorer(['rouge1', 'rouge2', 'rougeL'], use_stemmer=True)\n",
    "rouge_scores = scorer.score(reference_poem, generated_poem)\n",
    "print(\"ROUGE Scores:\")\n",
    "for key, value in rouge_scores.items():\n",
    "    print(f\"{key}: Precision={value.precision:.4f}, Recall={value.recall:.4f}, F1={value.fmeasure:.4f}\")\n",
    "\n",
    "# Distinct-N metrics\n",
    "def distinct_n_grams(tokens, n):\n",
    "    ngrams = list(nltk.ngrams(tokens, n))\n",
    "    return len(set(ngrams)) / max(len(ngrams), 1)\n",
    "\n",
    "distinct1 = distinct_n_grams(gen_tokens, 1)\n",
    "distinct2 = distinct_n_grams(gen_tokens, 2)\n",
    "\n",
    "print(f\"Distinct-1: {distinct1:.4f}\")\n",
    "print(f\"Distinct-2: {distinct2:.4f}\")\n"
   ]
  },
  {
   "cell_type": "code",
   "execution_count": 43,
   "id": "60684c28-e67d-4f0f-8176-0ba456ac8e09",
   "metadata": {},
   "outputs": [
    {
     "name": "stdout",
     "output_type": "stream",
     "text": [
      "SacreBLEU score: 8.17\n"
     ]
    }
   ],
   "source": [
    "import sacrebleu\n",
    "\n",
    "# Reference and hypothesis\n",
    "reference = [\"The sun shines bright with endless joy\"]\n",
    "hypothesis = \"The sunshine brings happiness and joy\"\n",
    "\n",
    "# sacrebleu expects lists of references (list of list)\n",
    "bleu = sacrebleu.corpus_bleu([hypothesis], [[reference[0]]])\n",
    "print(f\"SacreBLEU score: {bleu.score:.2f}\")\n"
   ]
  },
  {
   "cell_type": "code",
   "execution_count": 49,
   "id": "a3556bb4-ccd5-429a-a04e-d00577557c8d",
   "metadata": {},
   "outputs": [
    {
     "name": "stdout",
     "output_type": "stream",
     "text": [
      "CSV file saved successfully!\n"
     ]
    }
   ],
   "source": [
    "import pandas as pd\n",
    "\n",
    "# Sample evaluation results (you can replace this with your real metrics)\n",
    "data = {\n",
    "    \"prompt\": [\"joy\", \"sadness\", \"anger\", \"love\"],\n",
    "    \"bleu\": [0.45, 0.38, 0.27, 0.51],\n",
    "    \"rouge1\": [0.62, 0.49, 0.41, 0.65],\n",
    "    \"rougeL\": [0.48, 0.44, 0.33, 0.56],\n",
    "    \"sentiment_match\": [1, 1, 0, 1],\n",
    "    \"distinct1\": [0.65, 0.53, 0.48, 0.61],\n",
    "    \"distinct2\": [0.54, 0.44, 0.39, 0.50]\n",
    "}\n",
    "\n",
    "df = pd.DataFrame(data)\n",
    "df.to_csv(\"generated_poems_metrics.csv\", index=False)\n",
    "print(\"CSV file saved successfully!\")\n"
   ]
  },
  {
   "cell_type": "code",
   "execution_count": 51,
   "id": "9e306ced-b824-420d-9b5c-0f328c262bf4",
   "metadata": {},
   "outputs": [
    {
     "data": {
      "image/png": "[encoded data removed]",
      "text/plain": [
       "<Figure size 1000x500 with 1 Axes>"
      ]
     },
     "metadata": {},
     "output_type": "display_data"
    },
    {
     "data": {
      "image/png": "[encoded data removed]",
      "text/plain": [
       "<Figure size 800x400 with 1 Axes>"
      ]
     },
     "metadata": {},
     "output_type": "display_data"
    },
    {
     "data": {
      "image/png": "[encoded data removed]",
      "text/plain": [
       "<Figure size 1000x500 with 1 Axes>"
      ]
     },
     "metadata": {},
     "output_type": "display_data"
    }
   ],
   "source": [
    "import pandas as pd\n",
    "import matplotlib.pyplot as plt\n",
    "import seaborn as sns\n",
    "\n",
    "# Load metrics\n",
    "df = pd.read_csv(\"generated_poems_metrics.csv\")\n",
    "\n",
    "# Set seaborn style\n",
    "sns.set(style=\"whitegrid\")\n",
    "\n",
    "# 1. BLEU and ROUGE Scores by Prompt\n",
    "plt.figure(figsize=(10, 5))\n",
    "sns.barplot(data=df.melt(id_vars=\"prompt\", value_vars=[\"bleu\", \"rouge1\", \"rougeL\"]),\n",
    "            x=\"prompt\", y=\"value\", hue=\"variable\")\n",
    "plt.title(\"BLEU and ROUGE Scores by Prompt\")\n",
    "plt.ylabel(\"Score\")\n",
    "plt.show()\n",
    "\n",
    "# 2. Sentiment Match Accuracy by Prompt\n",
    "plt.figure(figsize=(8, 4))\n",
    "sns.barplot(data=df, x=\"prompt\", y=\"sentiment_match\")\n",
    "plt.title(\"Sentiment Match (1=Correct, 0=Incorrect)\")\n",
    "plt.ylabel(\"Match\")\n",
    "plt.ylim(0, 1.1)\n",
    "plt.show()\n",
    "\n",
    "# 3. Distinct-N Scores (Diversity)\n",
    "plt.figure(figsize=(10, 5))\n",
    "sns.barplot(data=df.melt(id_vars=\"prompt\", value_vars=[\"distinct1\", \"distinct2\"]),\n",
    "            x=\"prompt\", y=\"value\", hue=\"variable\")\n",
    "plt.title(\"Lexical Diversity (Distinct-1 and Distinct-2)\")\n",
    "plt.ylabel(\"Diversity Score\")\n",
    "plt.show()\n"
   ]
  },
  {
   "cell_type": "code",
   "execution_count": null,
   "id": "a6071f5a-2536-46a2-ae81-f24fbf246d26",
   "metadata": {},
   "outputs": [],
   "source": []
  }
 ],
 "metadata": {
  "kernelspec": {
   "display_name": "Python 3 (ipykernel)",
   "language": "python",
   "name": "python3"
  },
  "language_info": {
   "codemirror_mode": {
    "name": "ipython",
    "version": 3
   },
   "file_extension": ".py",
   "mimetype": "text/x-python",
   "name": "python",
   "nbconvert_exporter": "python",
   "pygments_lexer": "ipython3",
   "version": "3.12.4"
  }
 },
 "nbformat": 4,
 "nbformat_minor": 5
}
